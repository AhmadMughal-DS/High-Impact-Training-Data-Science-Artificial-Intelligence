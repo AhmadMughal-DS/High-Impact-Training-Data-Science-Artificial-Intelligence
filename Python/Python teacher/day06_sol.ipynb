{
 "cells": [
  {
   "cell_type": "markdown",
   "metadata": {},
   "source": [
    "## Task 3: Restaurant Management System\n",
    "\n",
    "### Pseudocode\n",
    "1. Define a class named `Restaurant`.\n",
    "2. Initialize `Restaurant` with `name`, `cuisine_type`, and `location`.\n",
    "3. Implement a method to display restaurant details.\n",
    "4. Use encapsulation to protect restaurant details.\n",
    "5. Define a subclass `FranchiseRestaurant` that inherits from `Restaurant`.\n",
    "6. Add additional attributes `num_branches` to `FranchiseRestaurant`.\n",
    "7. Override the method to display restaurant details in `FranchiseRestaurant` to include the number of branches.\n",
    "8. Implement a static method to check if a restaurant is open based on the day of the week.\n",
    "9. Implement a class method to update the cuisine type of all instances."
   ]
  },
  {
   "cell_type": "code",
   "execution_count": 15,
   "metadata": {},
   "outputs": [
    {
     "name": "stdout",
     "output_type": "stream",
     "text": [
      "Restaurant Name: wali, Location: Isl, Number of Branches: 5\n",
      "On\n"
     ]
    }
   ],
   "source": [
    "class Restaurant:\n",
    "    def __init__(self, name, location):\n",
    "        self.name = name\n",
    "        self.location = location\n",
    "    def display_info(self):\n",
    "        return f\"Restaurant Name: {self.name}, Location: {self.location}\"\n",
    "    @staticmethod\n",
    "    def open_off(day):\n",
    "        if day ==4:\n",
    "            print(\"Off\")\n",
    "        else:\n",
    "            print(\"On\")\n",
    "\n",
    "\n",
    "\n",
    "class FranchiseRestaurant(Restaurant):\n",
    "    cuisine_type = \"Not Decided Yet\"\n",
    "    def __init__(self, name, location, num_branches):\n",
    "        super().__init__(name, location)\n",
    "        self.num_branches = num_branches\n",
    "    def display_info(self):\n",
    "        return f\"\"\"Restaurant Name: {self.name}, Location: {self.location}, Number of Branches: {self.num_branches}\"\"\"\n",
    "    @classmethod\n",
    "    def set_cuisine(cls,cuisine_type):\n",
    "        cls.cuisine_type = cuisine_type\n",
    "\n",
    "name = input(\"Enter Restaurant Name: \")\n",
    "location = input(\"Enter Location: \")\n",
    "num_branches = int(input(\"Enter Number of Branches: \"))\n",
    "branch1 = FranchiseRestaurant(name, location, num_branches)\n",
    "print(branch1.display_info())\n",
    "FranchiseRestaurant.open_off(3)"
   ]
  },
  {
   "cell_type": "markdown",
   "metadata": {},
   "source": [
    "## Task 2: Employee Management System\n",
    "\n",
    "### Pseudocode\n",
    "1. Define a class named `Employee`.\n",
    "2. Initialize `Employee` with `name`, `position`, and `salary`.\n",
    "3. Implement a method to display employee details.\n",
    "4. Use class-level attribute to store the company name.\n",
    "5. Define a subclass `Manager` that inherits from `Employee`.\n",
    "6. Add additional attributes `department` to `Manager`.\n",
    "7. Implement a static method to check if an employee is eligible for a bonus based on their position.\n",
    "8. Implement a class method to change the company name."
   ]
  },
  {
   "cell_type": "code",
   "execution_count": 9,
   "metadata": {},
   "outputs": [
    {
     "name": "stdout",
     "output_type": "stream",
     "text": [
      "Name Ahmad \n",
      "Position CEO\n",
      "Salary 0\n",
      "Departments IT\n",
      "Not eligible for bouns\n",
      "default\n"
     ]
    }
   ],
   "source": [
    "class Employee:\n",
    "    company_name = \"CerebroX\"\n",
    "    def __init__(self, name,position,salary):\n",
    "        self.name = name\n",
    "        self.position = position\n",
    "        self.salary = salary\n",
    "    def details(self):\n",
    "        print(f\"\"\"Name {self.name} \n",
    "Position {self.position}\n",
    "Salary {self.salary}\"\"\")\n",
    "    def eligible_bouns(self):\n",
    "        if self.position.upper() == \"IT EMPLOYEE\" or self.position.upper() == \"LOWER RANK\":\n",
    "            print(\"Eligible for bouns\")\n",
    "        else: \n",
    "            print(\"Not eligible for bouns\")\n",
    "        \n",
    "class Manager(Employee):\n",
    "    def __init__(self, name, position, salary, departments):\n",
    "        super().__init__(name, position, salary)\n",
    "        self.departments = departments\n",
    "        \n",
    "    def details(self):\n",
    "        super().details()\n",
    "        print(f\"Departments {self.departments}\")\n",
    "\n",
    "    def set_company_name(self,name):\n",
    "        self.company_name = name\n",
    "\n",
    "Manager1 = Manager(\"Ahmad\",\"CEO\",0,\"IT\")\n",
    "Manager1.details()\n",
    "Manager1.eligible_bouns()\n",
    "\n",
    "Manager1.set_company_name(\"default\")\n",
    "print(Manager1.company_name)"
   ]
  },
  {
   "cell_type": "markdown",
   "metadata": {},
   "source": [
    "## Task 1: Library Management System\n",
    "\n",
    "### Pseudocode\n",
    "1. Define a class named `Library`.\n",
    "2. Initialize `Library` with `name` and `location`.\n",
    "3. Implement a method to display library details.\n",
    "4. Use encapsulation to protect library details.\n",
    "5. Define a subclass `DigitalLibrary` that inherits from `Library`.\n",
    "6. Add additional attributes `num_ebooks` to `DigitalLibrary`.\n",
    "7. Override the method to display library details in `DigitalLibrary` to include the number of e-books."
   ]
  },
  {
   "cell_type": "code",
   "execution_count": null,
   "metadata": {},
   "outputs": [],
   "source": [
    "class Library:\n",
    "    def __init__(self, name, location):\n",
    "        self._name = name\n",
    "        self._location = location\n",
    "    def display_info(self):\n",
    "        return f\"Library Name: {self.name}, Location: {self.location}\"\n",
    "\n",
    "\n",
    "class DigitalLibrary(Library):\n",
    "    def __init__(self, name, location, num_ebooks):\n",
    "        super().__init__(name, location)\n",
    "        self.num_ebooks = num_ebooks\n",
    "    def display_info(self):\n",
    "        return f\"{super().display_info()}, Number of e-books: {self.num_ebooks}\"\n",
    "    \n",
    "\n",
    "    \n",
    "name = input(\"Enter Library Name: \")\n",
    "location = input(\"Enter Location: \")\n",
    "library1 = Library(name, location)\n",
    "print(library1.display_info())\n"
   ]
  }
 ],
 "metadata": {
  "kernelspec": {
   "display_name": "ml_env",
   "language": "python",
   "name": "python3"
  },
  "language_info": {
   "codemirror_mode": {
    "name": "ipython",
    "version": 3
   },
   "file_extension": ".py",
   "mimetype": "text/x-python",
   "name": "python",
   "nbconvert_exporter": "python",
   "pygments_lexer": "ipython3",
   "version": "3.12.1"
  }
 },
 "nbformat": 4,
 "nbformat_minor": 2
}
