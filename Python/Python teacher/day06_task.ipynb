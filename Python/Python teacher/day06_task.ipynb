{
 "cells": [
  {
   "cell_type": "markdown",
   "metadata": {},
   "source": [
    "# Object-Oriented Programming (OOP) Tasks"
   ]
  },
  {
   "cell_type": "markdown",
   "metadata": {},
   "source": [
    "## Task 1: Library Management System\n",
    "\n",
    "### Pseudocode\n",
    "1. Define a class named `Library`.\n",
    "2. Initialize `Library` with `name` and `location`.\n",
    "3. Implement a method to display library details.\n",
    "4. Use encapsulation to protect library details.\n",
    "5. Define a subclass `DigitalLibrary` that inherits from `Library`.\n",
    "6. Add additional attributes `num_ebooks` to `DigitalLibrary`.\n",
    "7. Override the method to display library details in `DigitalLibrary` to include the number of e-books."
   ]
  },
  {
   "cell_type": "code",
   "execution_count": null,
   "metadata": {},
   "outputs": [],
   "source": [
    "# Task 1: Library Management System\n",
    "# Write your code here"
   ]
  },
  {
   "cell_type": "markdown",
   "metadata": {},
   "source": [
    "## Task 2: Employee Management System\n",
    "\n",
    "### Pseudocode\n",
    "1. Define a class named `Employee`.\n",
    "2. Initialize `Employee` with `name`, `position`, and `salary`.\n",
    "3. Implement a method to display employee details.\n",
    "4. Use class-level attribute to store the company name.\n",
    "5. Define a subclass `Manager` that inherits from `Employee`.\n",
    "6. Add additional attributes `department` to `Manager`.\n",
    "7. Implement a static method to check if an employee is eligible for a bonus based on their position.\n",
    "8. Implement a class method to change the company name."
   ]
  },
  {
   "cell_type": "code",
   "execution_count": null,
   "metadata": {},
   "outputs": [],
   "source": [
    "# Task 2: Employee Management System\n",
    "# Write your code here"
   ]
  },
  {
   "cell_type": "markdown",
   "metadata": {},
   "source": [
    "## Task 3: Restaurant Management System\n",
    "\n",
    "### Pseudocode\n",
    "1. Define a class named `Restaurant`.\n",
    "2. Initialize `Restaurant` with `name`, `cuisine_type`, and `location`.\n",
    "3. Implement a method to display restaurant details.\n",
    "4. Use encapsulation to protect restaurant details.\n",
    "5. Define a subclass `FranchiseRestaurant` that inherits from `Restaurant`.\n",
    "6. Add additional attributes `num_branches` to `FranchiseRestaurant`.\n",
    "7. Override the method to display restaurant details in `FranchiseRestaurant` to include the number of branches.\n",
    "8. Implement a static method to check if a restaurant is open based on the day of the week.\n",
    "9. Implement a class method to update the cuisine type of all instances."
   ]
  },
  {
   "cell_type": "code",
   "execution_count": null,
   "metadata": {},
   "outputs": [],
   "source": [
    "# Task 3: Restaurant Management System\n",
    "# Write your code here"
   ]
  }
 ],
 "metadata": {
  "kernelspec": {
   "display_name": "Python 3",
   "language": "python",
   "name": "python3"
  },
  "language_info": {
   "codemirror_mode": {
    "name": "ipython",
    "version": 3
   },
   "file_extension": ".py",
   "mimetype": "text/x-python",
   "name": "python",
   "nbconvert_exporter": "python",
   "pygments_lexer": "ipython3",
   "version": "3.9.13"
  }
 },
 "nbformat": 4,
 "nbformat_minor": 5
}
