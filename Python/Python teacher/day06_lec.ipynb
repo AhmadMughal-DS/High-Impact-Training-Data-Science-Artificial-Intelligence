{
 "cells": [
  {
   "cell_type": "markdown",
   "metadata": {},
   "source": [
    "# Object-Oriented Programming (OOP) Concepts in Python"
   ]
  },
  {
   "cell_type": "markdown",
   "metadata": {},
   "source": [
    "## Introduction to OOP Concepts\n",
    "Object-Oriented Programming (OOP) is a programming paradigm that uses objects and classes to structure software. The key principles of OOP include encapsulation, abstraction, inheritance, and polymorphism.\n",
    "\n",
    "### Benefits of Using OOP\n",
    "- **Modularity**: The source code for a class can be written and maintained independently of the source code for other classes.\n",
    "- **Reusability**: Once a class is written, it can be used to create multiple objects. Classes can also be reused in other programs.\n",
    "- **Extensibility**: New features can be added to existing code easily by creating new classes.\n",
    "- **Maintenance**: The modularity and reusability of OOP make it easier to debug, test, and maintain code."
   ]
  },
  {
   "cell_type": "markdown",
   "metadata": {},
   "source": [
    "## Classes and Objects\n",
    "### Definition and Explanation\n",
    "- **Class**: A blueprint for creating objects. It defines a set of attributes and methods that the created objects will have.\n",
    "- **Object**: An instance of a class. It is created using the class definition and can access the attributes and methods defined in the class."
   ]
  },
  {
   "cell_type": "code",
   "execution_count": 1,
   "metadata": {},
   "outputs": [
    {
     "name": "stdout",
     "output_type": "stream",
     "text": [
      "Shop Name: Electronics Store, Location: 1st Floor\n"
     ]
    }
   ],
   "source": [
    "# Example of a class and object in Python\n",
    "class Shop:\n",
    "    def __init__(self, name, location):\n",
    "        self.name = name\n",
    "        self.location = location\n",
    "    \n",
    "    def display_info(self):\n",
    "        return f'Shop Name: {self.name}, Location: {self.location}'\n",
    "\n",
    "# Creating an object of the Shop class\n",
    "shop1 = Shop('Electronics Store', '1st Floor')\n",
    "print(shop1.display_info())  # Output: Shop Name: Electronics Store, Location: 1st Floor"
   ]
  },
  {
   "cell_type": "markdown",
   "metadata": {},
   "source": [
    "### Explanation\n",
    "- `class Shop`: Defines a class named Shop.\n",
    "- `def __init__(self, name, location)`: The constructor method that initializes the object's attributes.\n",
    "- `self.name` and `self.location`: Instance variables.\n",
    "- `def display_info(self)`: A method that returns a string with the shop's information.\n",
    "- `shop1 = Shop('Electronics Store', '1st Floor')`: Creates an object of the Shop class.\n",
    "- `print(shop1.display_info())`: Calls the display_info method on the shop1 object."
   ]
  },
  {
   "cell_type": "markdown",
   "metadata": {},
   "source": [
    "## Class-Level and Instance-Level Attributes\n",
    "### Definitions and Differences\n",
    "- **Class-Level Attributes**: Attributes that are shared among all instances of a class. They are defined within the class but outside any methods.\n",
    "- **Instance-Level Attributes**: Attributes that are specific to each instance of a class. They are defined within methods, typically within the constructor method."
   ]
  },
  {
   "cell_type": "code",
   "execution_count": 2,
   "metadata": {},
   "outputs": [],
   "source": [
    "# Example of class-level and instance-level attributes\n",
    "class Shop:\n",
    "    mall_name = 'Grand Shopping Mall'  # Class-level attribute\n",
    "    \n",
    "    def __init__(self, name, location):\n",
    "        self.name = name  # Instance-level attribute\n",
    "        self.location = location  # Instance-level attribute\n",
    "\n",
    "shop1 = Shop('Electronics Store', '1st Floor')\n",
    "shop2 = Shop('Clothing Store', '2nd Floor')\n",
    "\n",
    "print(shop1.mall_name)  # Output: Grand Shopping Mall\n",
    "print(shop2.mall_name)  # Output: Grand Shopping Mall\n",
    "print(shop1.name)   # Output: Electronics Store\n",
    "print(shop2.name)   # Output: Clothing Store"
   ]
  },
  {
   "cell_type": "markdown",
   "metadata": {},
   "source": [
    "### Explanation\n",
    "- `mall_name = 'Grand Shopping Mall'`: A class-level attribute shared by all instances of the Shop class.\n",
    "- `self.name` and `self.location`: Instance-level attributes unique to each Shop object.\n",
    "- `shop1` and `shop2`: Instances of the Shop class.\n",
    "- `print(shop1.mall_name)`: Accesses the class-level attribute.\n",
    "- `print(shop1.name)`: Accesses the instance-level attribute."
   ]
  },
  {
   "cell_type": "markdown",
   "metadata": {},
   "source": [
    "## Inheritance\n",
    "### Definition and Types\n",
    "- **Inheritance**: A mechanism by which one class (child class) can inherit attributes and methods from another class (parent class).\n",
    "\n",
    "### Types of Inheritance\n",
    "- **Single Inheritance**: A child class inherits from one parent class.\n",
    "- **Multiple Inheritance**: A child class inherits from more than one parent class.\n",
    "- **Multilevel Inheritance**: A child class inherits from a parent class, which in turn inherits from another parent class.\n",
    "- **Hierarchical Inheritance**: Multiple child classes inherit from a single parent class."
   ]
  },
  {
   "cell_type": "code",
   "execution_count": 3,
   "metadata": {},
   "outputs": [],
   "source": [
    "# Example of Single Inheritance\n",
    "class Shop:\n",
    "    def __init__(self, name, location):\n",
    "        self.name = name\n",
    "        self.location = location\n",
    "    \n",
    "    def display_info(self):\n",
    "        return f'Shop Name: {self.name}, Location: {self.location}'\n",
    "\n",
    "class ElectronicsShop(Shop):\n",
    "    def __init__(self, name, location, num_gadgets):\n",
    "        super().__init__(name, location)\n",
    "        self.num_gadgets = num_gadgets\n",
    "    \n",
    "    def display_info(self):\n",
    "        return f'Shop Name: {self.name}, Location: {self.location}, Number of Gadgets: {self.num_gadgets}'\n",
    "\n",
    "shop1 = ElectronicsShop('Electronics Store', '1st Floor', 150)\n",
    "print(shop1.display_info())  # Output: Shop Name: Electronics Store, Location: 1st Floor, Number of Gadgets: 150"
   ]
  },
  {
   "cell_type": "markdown",
   "metadata": {},
   "source": [
    "### Explanation\n",
    "- `class Shop`: A parent class with a constructor and a method `display_info`.\n",
    "- `class ElectronicsShop(Shop)`: A child class that inherits from the Shop class.\n",
    "- `super().__init__(name, location)`: Calls the constructor of the parent class.\n",
    "- `shop1 = ElectronicsShop('Electronics Store', '1st Floor', 150)`: Creates an instance of the ElectronicsShop class.\n",
    "- `print(shop1.display_info())`: Calls the overridden `display_info` method on the shop1 object."
   ]
  },
  {
   "cell_type": "markdown",
   "metadata": {},
   "source": [
    "## Encapsulation\n",
    "### Definition and Purpose\n",
    "- **Encapsulation**: A mechanism of restricting access to certain components of an object and bundling the data (attributes) and methods that manipulate the data into a single unit (class).\n",
    "\n",
    "### Purpose\n",
    "- Protects the integrity of the data.\n",
    "- Prevents external code from directly accessing and modifying internal data."
   ]
  },
  {
   "cell_type": "code",
   "execution_count": 4,
   "metadata": {},
   "outputs": [],
   "source": [
    "# Example of Encapsulation\n",
    "class Shop:\n",
    "    def __init__(self, name, location):\n",
    "        self.__name = name  # Private attribute\n",
    "        self.__location = location  # Private attribute\n",
    "    \n",
    "    def get_name(self):\n",
    "        return self.__name\n",
    "    \n",
    "    def get_location(self):\n",
    "        return self.__location\n",
    "\n",
    "shop1 = Shop('Electronics Store', '1st Floor')\n",
    "print(shop1.get_name())  # Output: Electronics Store\n",
    "print(shop1.get_location())   # Output: 1st Floor"
   ]
  },
  {
   "cell_type": "markdown",
   "metadata": {},
   "source": [
    "### Explanation\n",
    "- `self.__name` and `self.__location`: Private attributes that cannot be accessed directly from outside the class.\n",
    "- `get_name` and `get_location`: Public methods that provide controlled access to the private attributes."
   ]
  },
  {
   "cell_type": "markdown",
   "metadata": {},
   "source": [
    "## Abstraction\n",
    "### Definition and Purpose\n",
    "- **Abstraction**: A mechanism of hiding the implementation details and showing only the essential features of an object.\n",
    "\n",
    "### Purpose\n",
    "- Reduces complexity by hiding unnecessary details.\n",
    "- Focuses on what an object does rather than how it does it."
   ]
  },
  {
   "cell_type": "code",
   "execution_count": 5,
   "metadata": {},
   "outputs": [],
   "source": [
    "# Example of Abstraction\n",
    "from abc import ABC, abstractmethod\n",
    "\n",
    "class Shop(ABC):\n",
    "    @abstractmethod\n",
    "    def display_info(self):\n",
    "        pass\n",
    "\n",
    "class ElectronicsShop(Shop):\n",
    "    def __init__(self, name, location, num_gadgets):\n",
    "        self.name = name\n",
    "        self.location = location\n",
    "        self.num_gadgets = num_gadgets\n",
    "    \n",
    "    def display_info(self):\n",
    "        return f'Shop Name: {self.name}, Location: {self.location}, Number of Gadgets: {self.num_gadgets}'\n",
    "\n",
    "shop1 = ElectronicsShop('Electronics Store', '1st Floor', 150)\n",
    "print(shop1.display_info())  # Output: Shop Name: Electronics Store, Location: 1st Floor, Number of Gadgets: 150"
   ]
  },
  {
   "cell_type": "markdown",
   "metadata": {},
   "source": [
    "### Explanation\n",
    "- `class Shop(ABC)`: An abstract base class with an abstract method `display_info`.\n",
    "- `class ElectronicsShop(Shop)`: A subclass that implements the `display_info` method.\n",
    "- `shop1 = ElectronicsShop('Electronics Store', '1st Floor', 150)`: Creates an instance of the ElectronicsShop class.\n",
    "- `print(shop1.display_info())`: Calls the `display_info` method on the shop1 object."
   ]
  },
  {
   "cell_type": "markdown",
   "metadata": {},
   "source": [
    "## Polymorphism\n",
    "### Definition and Types\n",
    "- **Polymorphism**: The ability of different objects to respond to the same method in different ways.\n",
    "\n",
    "### Types of Polymorphism\n",
    "- **Method Overloading**: Defining multiple methods with the same name but different parameters (not natively supported in Python).\n",
    "- **Method Overriding**: A child class provides a specific implementation of a method that is already defined in its parent class."
   ]
  },
  {
   "cell_type": "code",
   "execution_count": 6,
   "metadata": {},
   "outputs": [],
   "source": [
    "# Example of Method Overriding (Polymorphism)\n",
    "class Shop:\n",
    "    def display_info(self):\n",
    "        return 'General Shop Information'\n",
    "\n",
    "class ElectronicsShop(Shop):\n",
    "    def display_info(self):\n",
    "        return 'Electronics Shop Information'\n",
    "\n",
    "class ClothingShop(Shop):\n",
    "    def display_info(self):\n",
    "        return 'Clothing Shop Information'\n",
    "\n",
    "shop1 = Shop()\n",
    "shop2 = ElectronicsShop()\n",
    "shop3 = ClothingShop()\n",
    "\n",
    "print(shop1.display_info())      # Output: General Shop Information\n",
    "print(shop2.display_info())   # Output: Electronics Shop Information\n",
    "print(shop3.display_info())   # Output: Clothing Shop Information"
   ]
  },
  {
   "cell_type": "markdown",
   "metadata": {},
   "source": [
    "### Explanation\n",
    "- `class Shop`: A parent class with a method `display_info`.\n",
    "- `class ElectronicsShop(Shop)`: A child class that overrides the `display_info` method.\n",
    "- `class ClothingShop(Shop)`: Another child class that overrides the `display_info` method.\n",
    "- `print(shop1.display_info())`: Calls the `display_info` method on the shop1 object.\n",
    "- `print(shop2.display_info())`: Calls the overridden `display_info` method on the shop2 object.\n",
    "- `print(shop3.display_info())`: Calls the overridden `display_info` method on the shop3 object."
   ]
  },
  {
   "cell_type": "markdown",
   "metadata": {},
   "source": [
    "## Magic Functions (Dunder Methods)\n",
    "### Definition and Purpose\n",
    "- **Magic Functions**: Special methods with double underscores before and after their names (e.g., `__init__`, `__str__`). These methods are also known as dunder (double underscore) methods.\n",
    "\n",
    "### Purpose\n",
    "- Provide a way to implement behavior for built-in operations.\n",
    "- Customize the behavior of Python objects."
   ]
  },
  {
   "cell_type": "code",
   "execution_count": 7,
   "metadata": {},
   "outputs": [],
   "source": [
    "# Example of Magic Functions\n",
    "class Shop:\n",
    "    def __init__(self, name, location):\n",
    "        self.name = name\n",
    "        self.location = location\n",
    "    \n",
    "    def __str__(self):\n",
    "        return f'Shop Name: {self.name}, Location: {self.location}'\n",
    "    \n",
    "    def __len__(self):\n",
    "        return len(self.name)\n",
    "\n",
    "shop1 = Shop('Electronics Store', '1st Floor')\n",
    "print(shop1)  # Output: Shop Name: Electronics Store, Location: 1st Floor\n",
    "print(len(shop1))  # Output: 16"
   ]
  },
  {
   "cell_type": "markdown",
   "metadata": {},
   "source": [
    "### Explanation\n",
    "- `__init__`: Initializes the object's attributes.\n",
    "- `__str__`: Returns a string representation of the object.\n",
    "- `__len__`: Returns the length of the shop's name."
   ]
  },
  {
   "cell_type": "markdown",
   "metadata": {},
   "source": [
    "## Static Methods\n",
    "### Definition and Purpose\n",
    "- **Static Methods**: Methods that do not modify object state or class state. They are defined using the `@staticmethod` decorator.\n",
    "\n",
    "### Purpose\n",
    "- Group functions that have some logical connection with a class but do not need access to the class or instance."
   ]
  },
  {
   "cell_type": "code",
   "execution_count": 8,
   "metadata": {},
   "outputs": [],
   "source": [
    "# Example of Static Methods\n",
    "class Shop:\n",
    "    @staticmethod\n",
    "    def is_open(day):\n",
    "        open_days = ['Monday', 'Tuesday', 'Wednesday', 'Thursday', 'Friday', 'Saturday']\n",
    "        return day in open_days\n",
    "\n",
    "print(Shop.is_open('Sunday'))  # Output: False\n",
    "print(Shop.is_open('Monday'))  # Output: True"
   ]
  },
  {
   "cell_type": "markdown",
   "metadata": {},
   "source": [
    "### Explanation\n",
    "- `@staticmethod`: Decorator to define a static method.\n",
    "- `is_open(day)`: A static method that checks if the shop is open on a given day."
   ]
  },
  {
   "cell_type": "markdown",
   "metadata": {},
   "source": [
    "## Class Methods\n",
    "### Definition and Purpose\n",
    "- **Class Methods**: Methods that modify the class state that applies across all instances of the class. They are defined using the `@classmethod` decorator and take `cls` as the first parameter.\n",
    "\n",
    "### Purpose\n",
    "- Used for factory methods that instantiate an instance using different parameters."
   ]
  },
  {
   "cell_type": "code",
   "execution_count": 9,
   "metadata": {},
   "outputs": [],
   "source": [
    "# Example of Class Methods\n",
    "class Shop:\n",
    "    mall_name = 'Grand Shopping Mall'\n",
    "    \n",
    "    def __init__(self, name, location):\n",
    "        self.name = name\n",
    "        self.location = location\n",
    "    \n",
    "    @classmethod\n",
    "    def change_mall_name(cls, new_name):\n",
    "        cls.mall_name = new_name\n",
    "\n",
    "print(Shop.mall_name)  # Output: Grand Shopping Mall\n",
    "Shop.change_mall_name('Mega Shopping Mall')\n",
    "print(Shop.mall_name)  # Output: Mega Shopping Mall"
   ]
  },
  {
   "cell_type": "markdown",
   "metadata": {},
   "source": [
    "### Explanation\n",
    "- `@classmethod`: Decorator to define a class method.\n",
    "- `change_mall_name(cls, new_name)`: A class method that changes the class-level attribute `mall_name`."
   ]
  },
  {
   "cell_type": "markdown",
   "metadata": {},
   "source": [
    "## Double Underscore (Dunder) Methods and Variables\n",
    "### Definition and Purpose\n",
    "- **Double Underscore Methods**: Special methods with double underscores before and after their names (e.g., `__init__`, `__str__`). Also known as magic methods.\n",
    "- **Double Underscore Variables**: Variables with double underscores are used to avoid naming conflicts in subclasses.\n",
    "\n",
    "### Purpose\n",
    "- Dunder methods provide a way to define the behavior of objects for built-in operations.\n",
    "- Dunder variables help in name mangling to avoid conflicts."
   ]
  },
  {
   "cell_type": "code",
   "execution_count": 10,
   "metadata": {},
   "outputs": [],
   "source": [
    "# Example of Dunder Methods and Variables\n",
    "class Shop:\n",
    "    def __init__(self, name, location):\n",
    "        self.__name = name  # Private attribute\n",
    "        self.location = location\n",
    "    \n",
    "    def __str__(self):\n",
    "        return f'Shop Name: {self.__name}, Location: {self.location}'\n",
    "\n",
    "shop1 = Shop('Electronics Store', '1st Floor')\n",
    "print(shop1)  # Output: Shop Name: Electronics Store, Location: 1st Floor"
   ]
  },
  {
   "cell_type": "markdown",
   "metadata": {},
   "source": [
    "### Explanation\n",
    "- `self.__name`: A private attribute with name mangling to avoid naming conflicts.\n",
    "- `__str__`: A dunder method to define the string representation of the object."
   ]
  },
  {
   "cell_type": "markdown",
   "metadata": {},
   "source": [
    "## `super()` Method\n",
    "### Definition and Purpose\n",
    "- **`super()`**: A built-in function used to call a method from the parent class.\n",
    "\n",
    "### Purpose\n",
    "- To access methods of a parent class from within a child class."
   ]
  },
  {
   "cell_type": "code",
   "execution_count": 11,
   "metadata": {},
   "outputs": [],
   "source": [
    "# Example of `super()` Method\n",
    "class Shop:\n",
    "    def __init__(self, name, location):\n",
    "        self.name = name\n",
    "        self.location = location\n",
    "    \n",
    "    def display_info(self):\n",
    "        return f'Shop Name: {self.name}, Location: {self.location}'\n",
    "\n",
    "class ElectronicsShop(Shop):\n",
    "    def __init__(self, name, location, num_gadgets):\n",
    "        super().__init__(name, location)\n",
    "        self.num_gadgets = num_gadgets\n",
    "    \n",
    "    def display_info(self):\n",
    "        parent_info = super().display_info()\n",
    "        return f'{parent_info}, Number of Gadgets: {self.num_gadgets}'\n",
    "\n",
    "shop1 = ElectronicsShop('Electronics Store', '1st Floor', 150)\n",
    "print(shop1.display_info())  # Output: Shop Name: Electronics Store, Location: 1st Floor, Number of Gadgets: 150"
   ]
  },
  {
   "cell_type": "markdown",
   "metadata": {},
   "source": [
    "### Explanation\n",
    "- `super().__init__(name, location)`: Calls the constructor of the parent class.\n",
    "- `super().display_info()`: Calls the `display_info` method of the parent class."
   ]
  },
  {
   "cell_type": "markdown",
   "metadata": {},
   "source": [
    "## Decorators\n",
    "### Definition and Purpose\n",
    "- **Decorators**: Functions that modify the behavior of another function or method. They are defined using the `@decorator_name` syntax.\n",
    "\n",
    "### Purpose\n",
    "- To extend or modify the behavior of functions or methods without modifying their code."
   ]
  },
  {
   "cell_type": "code",
   "execution_count": 12,
   "metadata": {},
   "outputs": [],
   "source": [
    "# Example of Decorators\n",
    "def discount_decorator(func):\n",
    "    def wrapper(*args, **kwargs):\n",
    "        result = func(*args, **kwargs)\n",
    "        return result * 0.9  # Apply a 10% discount\n",
    "    return wrapper\n",
    "\n",
    "class Shop:\n",
    "    def __init__(self, name, price):\n",
    "        self.name = name\n",
    "        self.price = price\n",
    "    \n",
    "    @discount_decorator\n",
    "    def get_price(self):\n",
    "        return self.price\n",
    "\n",
    "shop1 = Shop('Electronics Store', 1000)\n",
    "print(shop1.get_price())  # Output: 900.0"
   ]
  },
  {
   "cell_type": "markdown",
   "metadata": {},
   "source": [
    "### Explanation\n",
    "- `@discount_decorator`: Decorator applied to the `get_price` method.\n",
    "- `discount_decorator(func)`: A decorator function that modifies the behavior of `get_price` by applying a 10% discount."
   ]
  },
  {
   "cell_type": "markdown",
   "metadata": {},
   "source": [
    "## Runtime Polymorphism\n",
    "### Definition and Purpose\n",
    "- **Runtime Polymorphism**: Polymorphism that is resolved during runtime. It is achieved through method overriding.\n",
    "\n",
    "### Purpose\n",
    "- Allows a method to behave differently based on the object that is invoking it."
   ]
  },
  {
   "cell_type": "code",
   "execution_count": 13,
   "metadata": {},
   "outputs": [],
   "source": [
    "# Example of Runtime Polymorphism\n",
    "class Shop:\n",
    "    def display_info(self):\n",
    "        return 'General Shop Information'\n",
    "\n",
    "class ElectronicsShop(Shop):\n",
    "    def display_info(self):\n",
    "        return 'Electronics Shop Information'\n",
    "\n",
    "class ClothingShop(Shop):\n",
    "    def display_info(self):\n",
    "        return 'Clothing Shop Information'\n",
    "\n",
    "def print_shop_info(shop):\n",
    "    print(shop.display_info())\n",
    "\n",
    "shop1 = Shop()\n",
    "shop2 = ElectronicsShop()\n",
    "shop3 = ClothingShop()\n",
    "\n",
    "print_shop_info(shop1)  # Output: General Shop Information\n",
    "print_shop_info(shop2)  # Output: Electronics Shop Information\n",
    "print_shop_info(shop3)  # Output: Clothing Shop Information"
   ]
  },
  {
   "cell_type": "markdown",
   "metadata": {},
   "source": [
    "### Explanation\n",
    "- `class Shop`: A parent class with a method `display_info`.\n",
    "- `class ElectronicsShop(Shop)`: A child class that overrides the `display_info` method.\n",
    "- `class ClothingShop(Shop)`: Another child class that overrides the `display_info` method.\n",
    "- `print_shop_info(shop)`: A function that calls the `display_info` method on the given shop object. The actual method invoked depends on the type of the shop object (runtime polymorphism)."
   ]
  },
  {
   "cell_type": "markdown",
   "metadata": {},
   "source": [
    "## Compile-Time Polymorphism\n",
    "### Definition and Purpose\n",
    "- **Compile-Time Polymorphism**: Polymorphism that is resolved during compile time. It is achieved through method overloading (not natively supported in Python).\n",
    "\n",
    "### Purpose\n",
    "- Allows methods to have different behaviors based on the number or type of their parameters."
   ]
  },
  {
   "cell_type": "markdown",
   "metadata": {},
   "source": [
    "### Example\n",
    "Python does not support method overloading directly. However, we can achieve similar functionality using default arguments or variable-length arguments."
   ]
  },
  {
   "cell_type": "code",
   "execution_count": 14,
   "metadata": {},
   "outputs": [],
   "source": [
    "# Example of Compile-Time Polymorphism using default arguments\n",
    "class Shop:\n",
    "    def get_discounted_price(self, price, discount=0):\n",
    "        return price - (price * discount / 100)\n",
    "\n",
    "shop1 = Shop()\n",
    "print(shop1.get_discounted_price(1000))  # Output: 1000\n",
    "print(shop1.get_discounted_price(1000, 10))  # Output: 900"
   ]
  },
  {
   "cell_type": "markdown",
   "metadata": {},
   "source": [
    "### Explanation\n",
    "- `get_discounted_price(self, price, discount=0)`: A method with a default argument `discount`. This allows the method to be called with different numbers of arguments, achieving a form of compile-time polymorphism."
   ]
  }
 ],
 "metadata": {
  "kernelspec": {
   "display_name": "Python 3",
   "language": "python",
   "name": "python3"
  },
  "language_info": {
   "codemirror_mode": {
    "name": "ipython",
    "version": 3
   },
   "file_extension": ".py",
   "mimetype": "text/x-python",
   "name": "python",
   "nbconvert_exporter": "python",
   "pygments_lexer": "ipython3",
   "version": "3.12.1"
  }
 },
 "nbformat": 4,
 "nbformat_minor": 5
}
